{
 "cells": [
  {
   "cell_type": "code",
   "execution_count": 1,
   "metadata": {},
   "outputs": [
    {
     "name": "stderr",
     "output_type": "stream",
     "text": [
      "Using TensorFlow backend.\n"
     ]
    }
   ],
   "source": [
    "%matplotlib inline\n",
    "from keras.layers import Conv2D, Dense, MaxPool2D, GlobalAveragePooling2D, Flatten, Dropout, BatchNormalization, Activation\n",
    "from keras.preprocessing.image import ImageDataGenerator\n",
    "from keras.callbacks import EarlyStopping, ModelCheckpoint, ReduceLROnPlateau\n",
    "from keras.models import Sequential, load_model\n",
    "from keras.datasets import mnist\n",
    "from keras import optimizers\n",
    "from sklearn.preprocessing import LabelBinarizer\n",
    "from sklearn.metrics import classification_report\n",
    "from sklearn.model_selection import train_test_split\n",
    "import matplotlib.pyplot as plt\n",
    "import numpy as np\n",
    "import cv2"
   ]
  },
  {
   "cell_type": "code",
   "execution_count": 2,
   "metadata": {},
   "outputs": [],
   "source": [
    "MODEL_NAME = 'mnist_cnn'\n",
    "EPOCHS = 30\n",
    "BATCH_SIZE = 32"
   ]
  },
  {
   "cell_type": "code",
   "execution_count": 3,
   "metadata": {
    "scrolled": true
   },
   "outputs": [],
   "source": [
    "# Load the MNIST dataset directly through Keras\n",
    "(x_train, y_train), (x_test, y_test) = mnist.load_data()\n",
    "\n",
    "# Normalize the data\n",
    "x_train = x_train.astype('float32') / 255.0\n",
    "x_test = x_test.astype('float32') / 255.0\n",
    "\n",
    "# Reshape data into tensor format\n",
    "x_train = x_train.reshape((x_train.shape[0], 28, 28, 1))\n",
    "x_test = x_test.reshape((x_test.shape[0], 28, 28, 1))\n",
    "\n",
    "# Convert training labels to 1-hot binary vectors\n",
    "binarizer = LabelBinarizer()\n",
    "y_train = binarizer.fit_transform(y_train)\n",
    "\n",
    "# Create validation split\n",
    "x_train, x_val, y_train, y_val = train_test_split(x_train, y_train, test_size=0.1, random_state=42)"
   ]
  },
  {
   "cell_type": "code",
   "execution_count": 4,
   "metadata": {},
   "outputs": [
    {
     "name": "stdout",
     "output_type": "stream",
     "text": [
      "_________________________________________________________________\n",
      "Layer (type)                 Output Shape              Param #   \n",
      "=================================================================\n",
      "conv2d_1 (Conv2D)            (None, 26, 26, 32)        320       \n",
      "_________________________________________________________________\n",
      "batch_normalization_1 (Batch (None, 26, 26, 32)        128       \n",
      "_________________________________________________________________\n",
      "conv2d_2 (Conv2D)            (None, 24, 24, 32)        9248      \n",
      "_________________________________________________________________\n",
      "batch_normalization_2 (Batch (None, 24, 24, 32)        128       \n",
      "_________________________________________________________________\n",
      "max_pooling2d_1 (MaxPooling2 (None, 12, 12, 32)        0         \n",
      "_________________________________________________________________\n",
      "dropout_1 (Dropout)          (None, 12, 12, 32)        0         \n",
      "_________________________________________________________________\n",
      "conv2d_3 (Conv2D)            (None, 12, 12, 64)        18496     \n",
      "_________________________________________________________________\n",
      "batch_normalization_3 (Batch (None, 12, 12, 64)        256       \n",
      "_________________________________________________________________\n",
      "conv2d_4 (Conv2D)            (None, 12, 12, 64)        36928     \n",
      "_________________________________________________________________\n",
      "batch_normalization_4 (Batch (None, 12, 12, 64)        256       \n",
      "_________________________________________________________________\n",
      "max_pooling2d_2 (MaxPooling2 (None, 6, 6, 64)          0         \n",
      "_________________________________________________________________\n",
      "dropout_2 (Dropout)          (None, 6, 6, 64)          0         \n",
      "_________________________________________________________________\n",
      "conv2d_5 (Conv2D)            (None, 6, 6, 128)         73856     \n",
      "_________________________________________________________________\n",
      "batch_normalization_5 (Batch (None, 6, 6, 128)         512       \n",
      "_________________________________________________________________\n",
      "max_pooling2d_3 (MaxPooling2 (None, 3, 3, 128)         0         \n",
      "_________________________________________________________________\n",
      "dropout_3 (Dropout)          (None, 3, 3, 128)         0         \n",
      "_________________________________________________________________\n",
      "flatten_1 (Flatten)          (None, 1152)              0         \n",
      "_________________________________________________________________\n",
      "dense_1 (Dense)              (None, 256)               295168    \n",
      "_________________________________________________________________\n",
      "batch_normalization_6 (Batch (None, 256)               1024      \n",
      "_________________________________________________________________\n",
      "dropout_4 (Dropout)          (None, 256)               0         \n",
      "_________________________________________________________________\n",
      "dense_2 (Dense)              (None, 10)                2570      \n",
      "=================================================================\n",
      "Total params: 438,890\n",
      "Trainable params: 437,738\n",
      "Non-trainable params: 1,152\n",
      "_________________________________________________________________\n"
     ]
    }
   ],
   "source": [
    "model = Sequential()\n",
    "\n",
    "model.add(Conv2D(32, (3, 3), activation='relu', padding='valid', input_shape=(28, 28, 1)))\n",
    "model.add(BatchNormalization())\n",
    "model.add(Conv2D(32, (3, 3), activation='relu', padding='valid'))\n",
    "model.add(BatchNormalization())\n",
    "model.add(MaxPool2D())\n",
    "model.add(Dropout(0.25))\n",
    "\n",
    "model.add(Conv2D(64, (3, 3), activation='relu', padding='same'))\n",
    "model.add(BatchNormalization())\n",
    "model.add(Conv2D(64, (3, 3), activation='relu', padding='same'))\n",
    "model.add(BatchNormalization())\n",
    "model.add(MaxPool2D())\n",
    "model.add(Dropout(0.25))\n",
    "\n",
    "model.add(Conv2D(128, (3, 3), activation='relu', padding='same'))\n",
    "model.add(BatchNormalization())\n",
    "model.add(MaxPool2D())\n",
    "model.add(Dropout(0.5))\n",
    "\n",
    "model.add(Flatten())\n",
    "model.add(Dense(256, activation='relu'))\n",
    "model.add(BatchNormalization())\n",
    "model.add(Dropout(0.5))\n",
    "model.add(Dense(10, activation='softmax'))\n",
    "\n",
    "model.summary()"
   ]
  },
  {
   "cell_type": "code",
   "execution_count": 5,
   "metadata": {},
   "outputs": [],
   "source": [
    "model.compile(loss='categorical_crossentropy', optimizer=optimizers.Adam(), metrics=['accuracy'])"
   ]
  },
  {
   "cell_type": "code",
   "execution_count": 6,
   "metadata": {},
   "outputs": [
    {
     "name": "stdout",
     "output_type": "stream",
     "text": [
      "Train on 54000 samples, validate on 6000 samples\n",
      "Epoch 1/30\n",
      "54000/54000 [==============================] - 43s 792us/step - loss: 0.2552 - acc: 0.9211 - val_loss: 0.0697 - val_acc: 0.9787\n",
      "Epoch 2/30\n",
      "54000/54000 [==============================] - 39s 719us/step - loss: 0.0803 - acc: 0.9752 - val_loss: 0.0493 - val_acc: 0.9840\n",
      "Epoch 3/30\n",
      "54000/54000 [==============================] - 39s 728us/step - loss: 0.0653 - acc: 0.9802 - val_loss: 0.0284 - val_acc: 0.9920\n",
      "Epoch 4/30\n",
      "54000/54000 [==============================] - 38s 704us/step - loss: 0.0549 - acc: 0.9830 - val_loss: 0.0314 - val_acc: 0.9908\n",
      "Epoch 5/30\n",
      "54000/54000 [==============================] - 38s 706us/step - loss: 0.0517 - acc: 0.9839 - val_loss: 0.0273 - val_acc: 0.9917\n",
      "Epoch 6/30\n",
      "54000/54000 [==============================] - 39s 729us/step - loss: 0.0422 - acc: 0.9871 - val_loss: 0.0290 - val_acc: 0.9913\n",
      "Epoch 7/30\n",
      "54000/54000 [==============================] - 40s 733us/step - loss: 0.0394 - acc: 0.9879 - val_loss: 0.0273 - val_acc: 0.9915\n",
      "Epoch 8/30\n",
      "54000/54000 [==============================] - 40s 735us/step - loss: 0.0380 - acc: 0.9885 - val_loss: 0.0227 - val_acc: 0.9933\n",
      "Epoch 9/30\n",
      "54000/54000 [==============================] - 40s 733us/step - loss: 0.0333 - acc: 0.9894 - val_loss: 0.0304 - val_acc: 0.9913\n",
      "Epoch 10/30\n",
      "54000/54000 [==============================] - 41s 752us/step - loss: 0.0318 - acc: 0.9903 - val_loss: 0.0248 - val_acc: 0.9925\n",
      "Epoch 11/30\n",
      "54000/54000 [==============================] - 40s 733us/step - loss: 0.0302 - acc: 0.9908 - val_loss: 0.0247 - val_acc: 0.9930\n",
      "Epoch 12/30\n",
      "54000/54000 [==============================] - 40s 745us/step - loss: 0.0287 - acc: 0.9910 - val_loss: 0.0226 - val_acc: 0.9933\n",
      "Epoch 13/30\n",
      "54000/54000 [==============================] - 40s 735us/step - loss: 0.0258 - acc: 0.9918 - val_loss: 0.0228 - val_acc: 0.9925\n",
      "\n",
      "Epoch 00013: ReduceLROnPlateau reducing learning rate to 0.00010000000474974513.\n",
      "Epoch 14/30\n",
      "54000/54000 [==============================] - 39s 730us/step - loss: 0.0200 - acc: 0.9938 - val_loss: 0.0168 - val_acc: 0.9952\n",
      "Epoch 15/30\n",
      "54000/54000 [==============================] - 39s 730us/step - loss: 0.0163 - acc: 0.9951 - val_loss: 0.0166 - val_acc: 0.9952\n",
      "Epoch 16/30\n",
      "54000/54000 [==============================] - 40s 734us/step - loss: 0.0158 - acc: 0.9954 - val_loss: 0.0155 - val_acc: 0.9957\n",
      "Epoch 17/30\n",
      "54000/54000 [==============================] - 39s 730us/step - loss: 0.0138 - acc: 0.9958 - val_loss: 0.0153 - val_acc: 0.9957\n",
      "Epoch 18/30\n",
      "54000/54000 [==============================] - 43s 789us/step - loss: 0.0126 - acc: 0.9961 - val_loss: 0.0164 - val_acc: 0.9952\n",
      "Epoch 19/30\n",
      "54000/54000 [==============================] - 39s 730us/step - loss: 0.0124 - acc: 0.9961 - val_loss: 0.0159 - val_acc: 0.9952\n",
      "Epoch 20/30\n",
      "54000/54000 [==============================] - 40s 746us/step - loss: 0.0120 - acc: 0.9964 - val_loss: 0.0161 - val_acc: 0.9957\n",
      "Epoch 21/30\n",
      "54000/54000 [==============================] - 41s 753us/step - loss: 0.0108 - acc: 0.9966 - val_loss: 0.0160 - val_acc: 0.9957\n",
      "Epoch 22/30\n",
      "54000/54000 [==============================] - 41s 755us/step - loss: 0.0101 - acc: 0.9968 - val_loss: 0.0156 - val_acc: 0.9962\n",
      "\n",
      "Epoch 00022: ReduceLROnPlateau reducing learning rate to 1.0000000474974514e-05.\n",
      "Epoch 23/30\n",
      "54000/54000 [==============================] - 40s 749us/step - loss: 0.0099 - acc: 0.9968 - val_loss: 0.0155 - val_acc: 0.9958\n",
      "Epoch 24/30\n",
      "54000/54000 [==============================] - 40s 744us/step - loss: 0.0092 - acc: 0.9973 - val_loss: 0.0156 - val_acc: 0.9960\n"
     ]
    }
   ],
   "source": [
    "stop_callback = EarlyStopping(patience=7)\n",
    "reduce_lr = ReduceLROnPlateau(patience=5, verbose=1)\n",
    "\n",
    "H = model.fit(x_train, y_train, batch_size=BATCH_SIZE, epochs=EPOCHS, verbose=1, \n",
    "              validation_data=(x_val, y_val), callbacks=[stop_callback, reduce_lr])"
   ]
  },
  {
   "cell_type": "code",
   "execution_count": 7,
   "metadata": {},
   "outputs": [
    {
     "data": {
      "image/png": "[encoded data removed]",
      "text/plain": [
       "<Figure size 432x288 with 2 Axes>"
      ]
     },
     "metadata": {},
     "output_type": "display_data"
    }
   ],
   "source": [
    "# Plot the accuracies\n",
    "plt.subplot(121)\n",
    "plt.plot(H.history['acc'], 'b', label='acc')\n",
    "plt.plot(H.history['val_acc'], 'r', label='val_acc')\n",
    "plt.xticks(np.arange(len(H.history['acc']), step=5))\n",
    "plt.xlabel('Epoch')\n",
    "plt.ylabel('Accuracy')\n",
    "plt.legend()\n",
    "\n",
    "# Plot the losses\n",
    "plt.subplot(122)\n",
    "plt.plot(H.history['loss'], 'b', label='loss')\n",
    "plt.plot(H.history['val_loss'], 'r', label='val_loss')\n",
    "plt.xticks(np.arange(len(H.history['loss']), step=5))\n",
    "plt.xlabel('Epoch')\n",
    "plt.ylabel('Loss')\n",
    "plt.legend()\n",
    "\n",
    "plt.tight_layout()"
   ]
  },
  {
   "cell_type": "code",
   "execution_count": 11,
   "metadata": {},
   "outputs": [],
   "source": [
    "# Reload the model with the lowest validation loss (if necessary)\n",
    "model = load_model('{}.h5'.format(MODEL_NAME))"
   ]
  },
  {
   "cell_type": "code",
   "execution_count": 8,
   "metadata": {},
   "outputs": [
    {
     "name": "stdout",
     "output_type": "stream",
     "text": [
      "[Training Data]\n",
      "54000/54000 [==============================] - 11s 196us/step\n",
      "Loss: 0.0021448809403932334\n",
      "Accuracy: 0.9994814814814815%\n"
     ]
    }
   ],
   "source": [
    "print('[Training Data]')\n",
    "loss, acc = model.evaluate(x_train, y_train, verbose=1)\n",
    "print('Loss: {}\\nAccuracy: {}%'.format(loss, acc))"
   ]
  },
  {
   "cell_type": "code",
   "execution_count": 9,
   "metadata": {},
   "outputs": [
    {
     "name": "stdout",
     "output_type": "stream",
     "text": [
      "[Testing Data]\n",
      "10000/10000 [==============================] - 2s 194us/step\n",
      "Loss: 0.012607622316906781\n",
      "Accuracy: 0.996%\n"
     ]
    }
   ],
   "source": [
    "print('[Testing Data]')\n",
    "loss, acc = model.evaluate(x_test, binarizer.transform(y_test), verbose=1)\n",
    "print('Loss: {}\\nAccuracy: {}%'.format(loss, acc))"
   ]
  },
  {
   "cell_type": "code",
   "execution_count": 11,
   "metadata": {},
   "outputs": [
    {
     "name": "stdout",
     "output_type": "stream",
     "text": [
      "             precision    recall  f1-score   support\n",
      "\n",
      "          0       1.00      1.00      1.00       980\n",
      "          1       0.99      1.00      1.00      1135\n",
      "          2       1.00      1.00      1.00      1032\n",
      "          3       1.00      1.00      1.00      1010\n",
      "          4       0.99      1.00      0.99       982\n",
      "          5       0.99      0.99      0.99       892\n",
      "          6       1.00      0.99      1.00       958\n",
      "          7       1.00      1.00      1.00      1028\n",
      "          8       1.00      1.00      1.00       974\n",
      "          9       1.00      0.99      0.99      1009\n",
      "\n",
      "avg / total       1.00      1.00      1.00     10000\n",
      "\n"
     ]
    }
   ],
   "source": [
    "# Generate predictions\n",
    "probs = model.predict(x_test)\n",
    "preds = probs.argmax(axis=1)\n",
    "\n",
    "# Display classification report\n",
    "print(classification_report(y_test, preds))"
   ]
  },
  {
   "cell_type": "code",
   "execution_count": 15,
   "metadata": {},
   "outputs": [
    {
     "name": "stdout",
     "output_type": "stream",
     "text": [
      "Image 5885: (actual, predicted) = (5, 5)\n",
      "Image 5792: (actual, predicted) = (4, 4)\n",
      "Image 2387: (actual, predicted) = (9, 9)\n",
      "Image 5131: (actual, predicted) = (6, 6)\n",
      "Image 7130: (actual, predicted) = (3, 3)\n",
      "Image 830: (actual, predicted) = (2, 2)\n"
     ]
    }
   ],
   "source": [
    "# Predict labels for random test images\n",
    "while True:\n",
    "    # Choose a random image from the test set\n",
    "    i = np.random.choice(np.arange(x_test.shape[0]), size=(1,), replace=False)[0]\n",
    "    sample = x_test[i]\n",
    "    label = y_test[i]\n",
    "    \n",
    "    # Predict label for the sampled image\n",
    "    prob = model.predict(np.expand_dims(sample, axis=0))\n",
    "    pred = prob.argmax(axis=1)[0]\n",
    "    print('Image {}: (actual, predicted) = ({}, {})'.format(i, label, pred))\n",
    "\n",
    "    # Convert grayscale image to color and resize for easy viewing\n",
    "    img = cv2.cvtColor(sample, cv2.COLOR_GRAY2BGR)\n",
    "    img = cv2.resize(img, dsize=(256, 256), interpolation=cv2.INTER_CUBIC)\n",
    "    \n",
    "    # Green if prediction is correct, red otherwise\n",
    "    color = (0, 127, 0) if pred == label else (0, 0, 127)\n",
    "    \n",
    "    # Write prediction and confidence to image and display it\n",
    "    cv2.putText(img, '{}: {:.1f}%'.format(pred, 100*prob.max()), (0, 20), cv2.FONT_HERSHEY_DUPLEX, 0.8, color)\n",
    "    cv2.imshow('Image {}: {}'.format(i, label), img)\n",
    "    \n",
    "    # Wait for keypress; quit if 'q' is pressed\n",
    "    if cv2.waitKey(0) == ord('q'):\n",
    "        break\n",
    "    \n",
    "cv2.destroyAllWindows()"
   ]
  }
 ],
 "metadata": {
  "kernelspec": {
   "display_name": "Python [conda env:opencv-env]",
   "language": "python",
   "name": "conda-env-opencv-env-py"
  },
  "language_info": {
   "codemirror_mode": {
    "name": "ipython",
    "version": 3
   },
   "file_extension": ".py",
   "mimetype": "text/x-python",
   "name": "python",
   "nbconvert_exporter": "python",
   "pygments_lexer": "ipython3",
   "version": "3.6.6"
  }
 },
 "nbformat": 4,
 "nbformat_minor": 2
}
