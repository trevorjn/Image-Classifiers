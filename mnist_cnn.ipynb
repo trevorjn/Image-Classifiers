{
 "cells": [
  {
   "cell_type": "code",
   "execution_count": 14,
   "metadata": {},
   "outputs": [],
   "source": [
    "%matplotlib inline\n",
    "from keras.layers import Conv2D, Dense, MaxPool2D, GlobalAveragePooling2D, Flatten, Dropout, BatchNormalization, Activation\n",
    "from keras.preprocessing.image import ImageDataGenerator\n",
    "from keras.callbacks import EarlyStopping, ModelCheckpoint, ReduceLROnPlateau\n",
    "from keras.models import Sequential, load_model\n",
    "from keras.datasets import mnist\n",
    "from keras import optimizers\n",
    "from sklearn.preprocessing import LabelBinarizer\n",
    "from sklearn.metrics import classification_report\n",
    "from sklearn.model_selection import train_test_split\n",
    "import matplotlib.pyplot as plt\n",
    "import numpy as np\n",
    "import cv2"
   ]
  },
  {
   "cell_type": "code",
   "execution_count": 8,
   "metadata": {},
   "outputs": [],
   "source": [
    "MODEL_NAME = 'mnist_cnn'\n",
    "EPOCHS = 30"
   ]
  },
  {
   "cell_type": "code",
   "execution_count": 3,
   "metadata": {
    "scrolled": true
   },
   "outputs": [],
   "source": [
    "# Load the MNIST dataset directly through Keras\n",
    "(x_train, y_train), (x_test, y_test) = mnist.load_data()\n",
    "\n",
    "# Normalize the data\n",
    "x_train = x_train.astype('float32') / 255.0\n",
    "x_test = x_test.astype('float32') / 255.0\n",
    "\n",
    "# Reshape data into tensor format\n",
    "x_train = x_train.reshape((x_train.shape[0], 28, 28, 1))\n",
    "x_test = x_test.reshape((x_test.shape[0], 28, 28, 1))\n",
    "\n",
    "# Convert training labels to 1-hot binary vectors\n",
    "binarizer = LabelBinarizer()\n",
    "y_train = binarizer.fit_transform(y_train)\n",
    "\n",
    "# Create validation split\n",
    "x_train, x_val, y_train, y_val = train_test_split(x_train, y_train, test_size=0.1, random_state=42)"
   ]
  },
  {
   "cell_type": "code",
   "execution_count": 4,
   "metadata": {},
   "outputs": [
    {
     "name": "stdout",
     "output_type": "stream",
     "text": [
      "_________________________________________________________________\n",
      "Layer (type)                 Output Shape              Param #   \n",
      "=================================================================\n",
      "conv2d_1 (Conv2D)            (None, 26, 26, 32)        320       \n",
      "_________________________________________________________________\n",
      "batch_normalization_1 (Batch (None, 26, 26, 32)        128       \n",
      "_________________________________________________________________\n",
      "conv2d_2 (Conv2D)            (None, 24, 24, 32)        9248      \n",
      "_________________________________________________________________\n",
      "batch_normalization_2 (Batch (None, 24, 24, 32)        128       \n",
      "_________________________________________________________________\n",
      "max_pooling2d_1 (MaxPooling2 (None, 12, 12, 32)        0         \n",
      "_________________________________________________________________\n",
      "dropout_1 (Dropout)          (None, 12, 12, 32)        0         \n",
      "_________________________________________________________________\n",
      "conv2d_3 (Conv2D)            (None, 12, 12, 64)        18496     \n",
      "_________________________________________________________________\n",
      "batch_normalization_3 (Batch (None, 12, 12, 64)        256       \n",
      "_________________________________________________________________\n",
      "conv2d_4 (Conv2D)            (None, 12, 12, 64)        36928     \n",
      "_________________________________________________________________\n",
      "batch_normalization_4 (Batch (None, 12, 12, 64)        256       \n",
      "_________________________________________________________________\n",
      "max_pooling2d_2 (MaxPooling2 (None, 6, 6, 64)          0         \n",
      "_________________________________________________________________\n",
      "dropout_2 (Dropout)          (None, 6, 6, 64)          0         \n",
      "_________________________________________________________________\n",
      "conv2d_5 (Conv2D)            (None, 6, 6, 128)         73856     \n",
      "_________________________________________________________________\n",
      "batch_normalization_5 (Batch (None, 6, 6, 128)         512       \n",
      "_________________________________________________________________\n",
      "max_pooling2d_3 (MaxPooling2 (None, 3, 3, 128)         0         \n",
      "_________________________________________________________________\n",
      "dropout_3 (Dropout)          (None, 3, 3, 128)         0         \n",
      "_________________________________________________________________\n",
      "flatten_1 (Flatten)          (None, 1152)              0         \n",
      "_________________________________________________________________\n",
      "dense_1 (Dense)              (None, 256)               295168    \n",
      "_________________________________________________________________\n",
      "batch_normalization_6 (Batch (None, 256)               1024      \n",
      "_________________________________________________________________\n",
      "dropout_4 (Dropout)          (None, 256)               0         \n",
      "_________________________________________________________________\n",
      "dense_2 (Dense)              (None, 10)                2570      \n",
      "=================================================================\n",
      "Total params: 438,890\n",
      "Trainable params: 437,738\n",
      "Non-trainable params: 1,152\n",
      "_________________________________________________________________\n"
     ]
    }
   ],
   "source": [
    "model = Sequential()\n",
    "\n",
    "model.add(Conv2D(32, (3, 3), activation='relu', padding='valid', input_shape=(28, 28, 1)))\n",
    "model.add(BatchNormalization())\n",
    "model.add(Conv2D(32, (3, 3), activation='relu', padding='valid'))\n",
    "model.add(BatchNormalization())\n",
    "model.add(MaxPool2D())\n",
    "model.add(Dropout(0.25))\n",
    "\n",
    "model.add(Conv2D(64, (3, 3), activation='relu', padding='same'))\n",
    "model.add(BatchNormalization())\n",
    "model.add(Conv2D(64, (3, 3), activation='relu', padding='same'))\n",
    "model.add(BatchNormalization())\n",
    "model.add(MaxPool2D())\n",
    "model.add(Dropout(0.25))\n",
    "\n",
    "model.add(Conv2D(128, (3, 3), activation='relu', padding='same'))\n",
    "model.add(BatchNormalization())\n",
    "model.add(MaxPool2D())\n",
    "model.add(Dropout(0.25))\n",
    "\n",
    "model.add(Flatten())\n",
    "model.add(Dense(256, activation='relu'))\n",
    "model.add(BatchNormalization())\n",
    "model.add(Dropout(0.5))\n",
    "model.add(Dense(10, activation='softmax'))\n",
    "\n",
    "model.summary()"
   ]
  },
  {
   "cell_type": "code",
   "execution_count": 5,
   "metadata": {},
   "outputs": [],
   "source": [
    "model.compile(loss='categorical_crossentropy', optimizer=optimizers.Adam(), metrics=['accuracy'])"
   ]
  },
  {
   "cell_type": "code",
   "execution_count": 9,
   "metadata": {},
   "outputs": [
    {
     "name": "stdout",
     "output_type": "stream",
     "text": [
      "Train on 54000 samples, validate on 6000 samples\n",
      "Epoch 1/30\n",
      "54000/54000 [==============================] - 40s 736us/step - loss: 0.1409 - acc: 0.9561 - val_loss: 0.0412 - val_acc: 0.9853\n",
      "\n",
      "Epoch 00001: val_loss improved from inf to 0.04123, saving model to mnist_cnn.h5\n",
      "Epoch 2/30\n",
      "54000/54000 [==============================] - 40s 736us/step - loss: 0.0708 - acc: 0.9779 - val_loss: 0.0463 - val_acc: 0.9843\n",
      "\n",
      "Epoch 00002: val_loss did not improve from 0.04123\n",
      "Epoch 3/30\n",
      "54000/54000 [==============================] - 40s 741us/step - loss: 0.0571 - acc: 0.9829 - val_loss: 0.0333 - val_acc: 0.9898\n",
      "\n",
      "Epoch 00003: val_loss improved from 0.04123 to 0.03333, saving model to mnist_cnn.h5\n",
      "Epoch 4/30\n",
      "54000/54000 [==============================] - 41s 766us/step - loss: 0.0495 - acc: 0.9845 - val_loss: 0.0238 - val_acc: 0.9930\n",
      "\n",
      "Epoch 00004: val_loss improved from 0.03333 to 0.02385, saving model to mnist_cnn.h5\n",
      "Epoch 5/30\n",
      "54000/54000 [==============================] - 41s 755us/step - loss: 0.0431 - acc: 0.9866 - val_loss: 0.0282 - val_acc: 0.9907\n",
      "\n",
      "Epoch 00005: val_loss did not improve from 0.02385\n",
      "Epoch 6/30\n",
      "54000/54000 [==============================] - 40s 744us/step - loss: 0.0389 - acc: 0.9882 - val_loss: 0.0249 - val_acc: 0.9932\n",
      "\n",
      "Epoch 00006: val_loss did not improve from 0.02385\n",
      "Epoch 7/30\n",
      "54000/54000 [==============================] - 40s 739us/step - loss: 0.0344 - acc: 0.9896 - val_loss: 0.0330 - val_acc: 0.9898\n",
      "\n",
      "Epoch 00007: val_loss did not improve from 0.02385\n",
      "Epoch 8/30\n",
      "54000/54000 [==============================] - 40s 741us/step - loss: 0.0332 - acc: 0.9900 - val_loss: 0.0298 - val_acc: 0.9915\n",
      "\n",
      "Epoch 00008: val_loss did not improve from 0.02385\n",
      "Epoch 9/30\n",
      "54000/54000 [==============================] - 40s 741us/step - loss: 0.0280 - acc: 0.9913 - val_loss: 0.0236 - val_acc: 0.9932\n",
      "\n",
      "Epoch 00009: val_loss improved from 0.02385 to 0.02364, saving model to mnist_cnn.h5\n",
      "Epoch 10/30\n",
      "54000/54000 [==============================] - 40s 740us/step - loss: 0.0240 - acc: 0.9928 - val_loss: 0.0235 - val_acc: 0.9935\n",
      "\n",
      "Epoch 00010: val_loss improved from 0.02364 to 0.02345, saving model to mnist_cnn.h5\n",
      "Epoch 11/30\n",
      "54000/54000 [==============================] - 41s 766us/step - loss: 0.0260 - acc: 0.9921 - val_loss: 0.0250 - val_acc: 0.9932\n",
      "\n",
      "Epoch 00011: val_loss did not improve from 0.02345\n",
      "Epoch 12/30\n",
      "54000/54000 [==============================] - 41s 752us/step - loss: 0.0234 - acc: 0.9930 - val_loss: 0.0197 - val_acc: 0.9943\n",
      "\n",
      "Epoch 00012: val_loss improved from 0.02345 to 0.01968, saving model to mnist_cnn.h5\n",
      "Epoch 13/30\n",
      "54000/54000 [==============================] - 39s 729us/step - loss: 0.0211 - acc: 0.9934 - val_loss: 0.0233 - val_acc: 0.9932\n",
      "\n",
      "Epoch 00013: val_loss did not improve from 0.01968\n",
      "Epoch 14/30\n",
      "54000/54000 [==============================] - 39s 727us/step - loss: 0.0212 - acc: 0.9938 - val_loss: 0.0231 - val_acc: 0.9935\n",
      "\n",
      "Epoch 00014: val_loss did not improve from 0.01968\n",
      "Epoch 15/30\n",
      "54000/54000 [==============================] - 39s 718us/step - loss: 0.0204 - acc: 0.9938 - val_loss: 0.0235 - val_acc: 0.9935\n",
      "\n",
      "Epoch 00015: val_loss did not improve from 0.01968\n",
      "Epoch 16/30\n",
      "54000/54000 [==============================] - 40s 738us/step - loss: 0.0183 - acc: 0.9946 - val_loss: 0.0236 - val_acc: 0.9930\n",
      "\n",
      "Epoch 00016: val_loss did not improve from 0.01968\n",
      "Epoch 17/30\n",
      "54000/54000 [==============================] - 40s 734us/step - loss: 0.0173 - acc: 0.9945 - val_loss: 0.0234 - val_acc: 0.9937\n",
      "\n",
      "Epoch 00017: val_loss did not improve from 0.01968\n",
      "\n",
      "Epoch 00017: ReduceLROnPlateau reducing learning rate to 0.00010000000474974513.\n",
      "Epoch 18/30\n",
      "54000/54000 [==============================] - 39s 729us/step - loss: 0.0126 - acc: 0.9961 - val_loss: 0.0182 - val_acc: 0.9952\n",
      "\n",
      "Epoch 00018: val_loss improved from 0.01968 to 0.01820, saving model to mnist_cnn.h5\n",
      "Epoch 19/30\n",
      "54000/54000 [==============================] - 41s 764us/step - loss: 0.0097 - acc: 0.9969 - val_loss: 0.0179 - val_acc: 0.9953\n",
      "\n",
      "Epoch 00019: val_loss improved from 0.01820 to 0.01794, saving model to mnist_cnn.h5\n",
      "Epoch 20/30\n",
      "54000/54000 [==============================] - 39s 727us/step - loss: 0.0087 - acc: 0.9974 - val_loss: 0.0180 - val_acc: 0.9957\n",
      "\n",
      "Epoch 00020: val_loss did not improve from 0.01794\n",
      "Epoch 21/30\n",
      "54000/54000 [==============================] - 39s 731us/step - loss: 0.0087 - acc: 0.9974 - val_loss: 0.0183 - val_acc: 0.9948\n",
      "\n",
      "Epoch 00021: val_loss did not improve from 0.01794\n",
      "Epoch 22/30\n",
      "54000/54000 [==============================] - 40s 734us/step - loss: 0.0075 - acc: 0.9977 - val_loss: 0.0177 - val_acc: 0.9957\n",
      "\n",
      "Epoch 00022: val_loss improved from 0.01794 to 0.01774, saving model to mnist_cnn.h5\n",
      "Epoch 23/30\n",
      "54000/54000 [==============================] - 40s 738us/step - loss: 0.0077 - acc: 0.9978 - val_loss: 0.0169 - val_acc: 0.9953\n",
      "\n",
      "Epoch 00023: val_loss improved from 0.01774 to 0.01694, saving model to mnist_cnn.h5\n",
      "Epoch 24/30\n",
      "54000/54000 [==============================] - 40s 732us/step - loss: 0.0067 - acc: 0.9977 - val_loss: 0.0178 - val_acc: 0.9955\n",
      "\n",
      "Epoch 00024: val_loss did not improve from 0.01694\n",
      "Epoch 25/30\n",
      "54000/54000 [==============================] - 40s 743us/step - loss: 0.0064 - acc: 0.9979 - val_loss: 0.0170 - val_acc: 0.9958\n",
      "\n",
      "Epoch 00025: val_loss did not improve from 0.01694\n",
      "Epoch 26/30\n",
      "54000/54000 [==============================] - 39s 722us/step - loss: 0.0067 - acc: 0.9981 - val_loss: 0.0178 - val_acc: 0.9958\n",
      "\n",
      "Epoch 00026: val_loss did not improve from 0.01694\n",
      "Epoch 27/30\n",
      "54000/54000 [==============================] - 39s 724us/step - loss: 0.0050 - acc: 0.9985 - val_loss: 0.0177 - val_acc: 0.9957\n",
      "\n",
      "Epoch 00027: val_loss did not improve from 0.01694\n",
      "Epoch 28/30\n",
      "54000/54000 [==============================] - 39s 722us/step - loss: 0.0059 - acc: 0.9982 - val_loss: 0.0173 - val_acc: 0.9957\n",
      "\n",
      "Epoch 00028: val_loss did not improve from 0.01694\n",
      "\n",
      "Epoch 00028: ReduceLROnPlateau reducing learning rate to 1.0000000474974514e-05.\n",
      "Epoch 29/30\n",
      "54000/54000 [==============================] - 40s 738us/step - loss: 0.0053 - acc: 0.9983 - val_loss: 0.0173 - val_acc: 0.9953\n",
      "\n",
      "Epoch 00029: val_loss did not improve from 0.01694\n",
      "Epoch 30/30\n",
      "54000/54000 [==============================] - 40s 746us/step - loss: 0.0054 - acc: 0.9984 - val_loss: 0.0173 - val_acc: 0.9952\n",
      "\n",
      "Epoch 00030: val_loss did not improve from 0.01694\n",
      "Epoch 00030: early stopping\n"
     ]
    }
   ],
   "source": [
    "stop_callback = EarlyStopping(patience=7, verbose=1)\n",
    "checkpoint = ModelCheckpoint('{}.h5'.format(MODEL_NAME), verbose=1, save_best_only=True)\n",
    "reduce_lr = ReduceLROnPlateau(patience=5, verbose=1)\n",
    "\n",
    "H = model.fit(x_train, y_train, batch_size=32, epochs=EPOCHS, verbose=1, \n",
    "              validation_data=(x_val, y_val), callbacks=[stop_callback, checkpoint, reduce_lr])"
   ]
  },
  {
   "cell_type": "code",
   "execution_count": 10,
   "metadata": {},
   "outputs": [
    {
     "data": {
      "image/png": "[encoded data removed]",
      "text/plain": [
       "<Figure size 432x288 with 2 Axes>"
      ]
     },
     "metadata": {},
     "output_type": "display_data"
    }
   ],
   "source": [
    "plt.subplot(121)\n",
    "plt.plot(H.history['acc'], 'b', label='acc')\n",
    "plt.plot(H.history['val_acc'], 'r', label='val_acc')\n",
    "plt.xticks(np.arange(len(H.history['acc']), step=2))\n",
    "plt.xlabel('Epoch')\n",
    "plt.ylabel('Accuracy')\n",
    "plt.legend()\n",
    "\n",
    "plt.subplot(122)\n",
    "plt.plot(H.history['loss'], 'b', label='loss')\n",
    "plt.plot(H.history['val_loss'], 'r', label='val_loss')\n",
    "plt.xticks(np.arange(len(H.history['loss']), step=2))\n",
    "plt.xlabel('Epoch')\n",
    "plt.ylabel('Loss')\n",
    "plt.legend()\n",
    "\n",
    "plt.tight_layout()"
   ]
  },
  {
   "cell_type": "code",
   "execution_count": 16,
   "metadata": {},
   "outputs": [],
   "source": [
    "# Reload the model with the lowest validation loss\n",
    "model = load_model('{}.h5'.format(MODEL_NAME))"
   ]
  },
  {
   "cell_type": "code",
   "execution_count": 19,
   "metadata": {},
   "outputs": [
    {
     "name": "stdout",
     "output_type": "stream",
     "text": [
      "[Training Data]\n",
      "54000/54000 [==============================] - 10s 192us/step\n",
      "Loss: 0.0011631143182738992\n",
      "Accuracy: 0.9997962962962963%\n"
     ]
    }
   ],
   "source": [
    "print('[Training Data]')\n",
    "loss, acc = model.evaluate(x_train, y_train, verbose=1)\n",
    "print('Loss: {}\\nAccuracy: {}%'.format(loss, acc))"
   ]
  },
  {
   "cell_type": "code",
   "execution_count": 20,
   "metadata": {},
   "outputs": [
    {
     "name": "stdout",
     "output_type": "stream",
     "text": [
      "[Testing Data]\n",
      "10000/10000 [==============================] - 2s 196us/step\n",
      "Loss: 0.013733245430909756\n",
      "Accuracy: 0.9957%\n"
     ]
    }
   ],
   "source": [
    "print('[Testing Data]')\n",
    "loss, acc = model.evaluate(x_test, binarizer.transform(y_test), verbose=1)\n",
    "print('Loss: {}\\nAccuracy: {}%'.format(loss, acc))"
   ]
  },
  {
   "cell_type": "code",
   "execution_count": 21,
   "metadata": {},
   "outputs": [
    {
     "name": "stdout",
     "output_type": "stream",
     "text": [
      "             precision    recall  f1-score   support\n",
      "\n",
      "          0       0.99      1.00      1.00       980\n",
      "          1       1.00      1.00      1.00      1135\n",
      "          2       1.00      1.00      1.00      1032\n",
      "          3       1.00      1.00      1.00      1010\n",
      "          4       0.99      0.99      0.99       982\n",
      "          5       1.00      1.00      1.00       892\n",
      "          6       1.00      0.99      0.99       958\n",
      "          7       0.99      1.00      1.00      1028\n",
      "          8       1.00      1.00      1.00       974\n",
      "          9       0.99      0.99      0.99      1009\n",
      "\n",
      "avg / total       1.00      1.00      1.00     10000\n",
      "\n"
     ]
    }
   ],
   "source": [
    "probs = model.predict(x_test)\n",
    "preds = probs.argmax(axis=1)\n",
    "\n",
    "print(classification_report(y_test, preds))"
   ]
  },
  {
   "cell_type": "code",
   "execution_count": 22,
   "metadata": {},
   "outputs": [
    {
     "name": "stdout",
     "output_type": "stream",
     "text": [
      "Image 8773: 4\n",
      "Image 8432: 1\n",
      "Image 2576: 1\n",
      "Image 6481: 3\n",
      "Image 7392: 7\n",
      "Image 1795: 2\n"
     ]
    }
   ],
   "source": [
    "# Label random testing images\n",
    "while True:\n",
    "    i = np.random.choice(np.arange(x_test.shape[0]), size=(1,), replace=False)[0]\n",
    "    sample = x_test[i]\n",
    "    label = y_test[i]\n",
    "    print('Image {}: {}'.format(i, label))\n",
    "    \n",
    "    prob = model.predict(np.expand_dims(sample, axis=0))\n",
    "    pred = prob.argmax(axis=1)[0]\n",
    "    \n",
    "    img = cv2.cvtColor(sample, cv2.COLOR_GRAY2BGR)\n",
    "    img = cv2.resize(img, dsize=(256, 256), interpolation=cv2.INTER_CUBIC)\n",
    "    \n",
    "    color = (0, 127, 0) if pred == label else (0, 0, 127)\n",
    "    \n",
    "    cv2.putText(img, '{}: {:.1f}%'.format(pred, 100*prob.max()), (0, 20), cv2.FONT_HERSHEY_DUPLEX, 0.8, color)\n",
    "    cv2.imshow('Image {}: {}'.format(i, label), img)\n",
    "    \n",
    "    if cv2.waitKey(0) == ord('q'):\n",
    "        break\n",
    "    \n",
    "cv2.destroyAllWindows()"
   ]
  }
 ],
 "metadata": {
  "kernelspec": {
   "display_name": "Python [conda env:opencv-env]",
   "language": "python",
   "name": "conda-env-opencv-env-py"
  },
  "language_info": {
   "codemirror_mode": {
    "name": "ipython",
    "version": 3
   },
   "file_extension": ".py",
   "mimetype": "text/x-python",
   "name": "python",
   "nbconvert_exporter": "python",
   "pygments_lexer": "ipython3",
   "version": "3.6.6"
  }
 },
 "nbformat": 4,
 "nbformat_minor": 2
}
